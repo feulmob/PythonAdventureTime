{
 "cells": [
  {
   "cell_type": "code",
   "execution_count": null,
   "metadata": {},
   "outputs": [],
   "source": [
    "from CharacterClass import *\n",
    "\n",
    "import pandas as pd\n",
    "from bs4 import BeautifulSoup\n",
    "import random as rand\n",
    "import numpy as np"
   ]
  },
  {
   "cell_type": "code",
   "execution_count": null,
   "metadata": {},
   "outputs": [],
   "source": [
    "laern = (character(name = \"Leeroy Jenkins\",\n",
    "        race = \"elf\",\n",
    "        level = 1,\n",
    "        age = 19,\n",
    "        class_name = \"Fighter\",\n",
    "        hitdice = 10, proficiency=2))\n",
    "laern.AC = 10 + laern.abilityModifiers.dex +2"
   ]
  },
  {
   "cell_type": "markdown",
   "metadata": {},
   "source": [
    "#### Lets make a new character."
   ]
  },
  {
   "cell_type": "code",
   "execution_count": null,
   "metadata": {},
   "outputs": [],
   "source": [
    "acacia= (character(name = \"acacia\",\n",
    "        race = \"puppy\",\n",
    "        level = 5,\n",
    "        age = 14,\n",
    "        class_name = \"ranger\",\n",
    "        hitdice = 8, proficiency=3))\n",
    "acacia.AC = 10 + acacia.abilityModifiers.dex +2"
   ]
  },
  {
   "cell_type": "markdown",
   "metadata": {},
   "source": [
    "Now We can look at logic. "
   ]
  },
  {
   "cell_type": "code",
   "execution_count": null,
   "metadata": {},
   "outputs": [],
   "source": [
    "attack, damage= acacia.melee_attack(acacia.abilityModifiers.str, 8)\n",
    "print(attack, damage)\n",
    "if attack > laern.AC:\n",
    "    laern.current_hp -= damage\n",
    "print(laern.current_hp)"
   ]
  },
  {
   "cell_type": "markdown",
   "metadata": {},
   "source": [
    "And For Loops. "
   ]
  },
  {
   "cell_type": "code",
   "execution_count": null,
   "metadata": {},
   "outputs": [],
   "source": [
    "while (laern.current_hp >0) & (acacia.current_hp >0):\n",
    "    ac_attack, ac_damage= acacia.melee_attack(acacia.abilityModifiers.str, 8)\n",
    "    if attack > laern.AC:\n",
    "        laern.current_hp -= ac_damage\n",
    "    la_attack, la_damage= laern.melee_attack(laern.abilityModifiers.str, 12)\n",
    "    if attack > acacia.AC:\n",
    "        acacia.current_hp -= la_damage\n"
   ]
  },
  {
   "cell_type": "code",
   "execution_count": null,
   "metadata": {},
   "outputs": [],
   "source": [
    "acacia.current_hp, laern.current_hp"
   ]
  },
  {
   "cell_type": "code",
   "execution_count": null,
   "metadata": {},
   "outputs": [],
   "source": []
  },
  {
   "cell_type": "code",
   "execution_count": null,
   "metadata": {},
   "outputs": [],
   "source": []
  }
 ],
 "metadata": {
  "kernelspec": {
   "display_name": "Python 3",
   "language": "python",
   "name": "python3"
  },
  "language_info": {
   "codemirror_mode": {
    "name": "ipython",
    "version": 3
   },
   "file_extension": ".py",
   "mimetype": "text/x-python",
   "name": "python",
   "nbconvert_exporter": "python",
   "pygments_lexer": "ipython3",
   "version": "3.7.4"
  }
 },
 "nbformat": 4,
 "nbformat_minor": 4
}
